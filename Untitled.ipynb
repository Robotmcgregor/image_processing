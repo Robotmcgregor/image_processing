{
 "cells": [
  {
   "cell_type": "markdown",
   "metadata": {},
   "source": [
    "conda environment C:\\ProgramData\\Anaconda3\\envs\\geo_env or Base"
   ]
  },
  {
   "cell_type": "code",
   "execution_count": 1,
   "metadata": {},
   "outputs": [
    {
     "ename": "ModuleNotFoundError",
     "evalue": "No module named 'pyunpack'",
     "output_type": "error",
     "traceback": [
      "\u001b[1;31m---------------------------------------------------------------------------\u001b[0m",
      "\u001b[1;31mModuleNotFoundError\u001b[0m                       Traceback (most recent call last)",
      "\u001b[1;32m<ipython-input-1-0a47a1db2b0c>\u001b[0m in \u001b[0;36m<module>\u001b[1;34m()\u001b[0m\n\u001b[0;32m      2\u001b[0m \u001b[1;32mimport\u001b[0m \u001b[0mshutil\u001b[0m\u001b[1;33m\u001b[0m\u001b[1;33m\u001b[0m\u001b[0m\n\u001b[0;32m      3\u001b[0m \u001b[1;32mfrom\u001b[0m \u001b[0mzipfile\u001b[0m \u001b[1;32mimport\u001b[0m \u001b[0mZipFile\u001b[0m\u001b[1;33m\u001b[0m\u001b[1;33m\u001b[0m\u001b[0m\n\u001b[1;32m----> 4\u001b[1;33m \u001b[1;32mfrom\u001b[0m \u001b[0mpyunpack\u001b[0m \u001b[1;32mimport\u001b[0m \u001b[0mArchive\u001b[0m\u001b[1;33m\u001b[0m\u001b[1;33m\u001b[0m\u001b[0m\n\u001b[0m\u001b[0;32m      5\u001b[0m \u001b[1;32mfrom\u001b[0m \u001b[0mglob\u001b[0m \u001b[1;32mimport\u001b[0m \u001b[0mglob\u001b[0m\u001b[1;33m\u001b[0m\u001b[1;33m\u001b[0m\u001b[0m\n\u001b[0;32m      6\u001b[0m \u001b[1;32mfrom\u001b[0m \u001b[0mpathlab\u001b[0m \u001b[1;32mimport\u001b[0m \u001b[0mPath\u001b[0m\u001b[1;33m\u001b[0m\u001b[1;33m\u001b[0m\u001b[0m\n",
      "\u001b[1;31mModuleNotFoundError\u001b[0m: No module named 'pyunpack'"
     ]
    }
   ],
   "source": [
    "import os\n",
    "import shutil\n",
    "from zipfile import ZipFile\n",
    "from pyunpack import Archive\n",
    "from glob import glob\n",
    "from pathlab import Path"
   ]
  },
  {
   "cell_type": "code",
   "execution_count": null,
   "metadata": {},
   "outputs": [],
   "source": []
  },
  {
   "cell_type": "code",
   "execution_count": null,
   "metadata": {},
   "outputs": [],
   "source": [
    "directory = r'Z:\\Scratch\\Rob\\sent'"
   ]
  },
  {
   "cell_type": "code",
   "execution_count": null,
   "metadata": {},
   "outputs": [],
   "source": [
    "def unzip7(directory):\n",
    "    #directory = \"C:\\\\Users\\\\rmcgr\\\\Desktop\\\\test_zip\"\n",
    "    #Check for a scratch folder, if one does not exist create one.\n",
    "    scratchDir = directory + \"\\\\scratch\"\n",
    "    #print(scratchDir)\n",
    "    check_dir = os.path.isdir(scratchDir)\n",
    "\n",
    "    if not check_dir:\n",
    "        os.makedirs(scratchDir)\n",
    "        print(\"created: \" + scratchDir)\n",
    "        \n",
    "    else:\n",
    "        print(scratchDir + \" already exists.\")\n",
    "        \n",
    "        \n",
    "    #Unzip files to scratch folder\n",
    "    for filename in os.listdir(directory):\n",
    "        #print(directory)\n",
    "        print(filename)\n",
    "        if filename.endswith(\".zip\"):\n",
    "            #create a scratch folder\n",
    "            Archive(directory + \"\\\\\" + filename).extractall(scratchDir)\n",
    "            print(filename, \" has been unzipped\")\n",
    "    \n",
    "    return scratchDir"
   ]
  },
  {
   "cell_type": "code",
   "execution_count": null,
   "metadata": {},
   "outputs": [],
   "source": [
    "scratchDir = unzip7(directory)"
   ]
  },
  {
   "cell_type": "code",
   "execution_count": 22,
   "metadata": {},
   "outputs": [],
   "source": [
    "def runscript(ref10,ref20,outimg):\n",
    "    \n",
    "    \"\"\"\n",
    "    call the script and run it.\n",
    "    \n",
    "    \"\"\" \n",
    "    \n",
    "    cmd = \"python sen2make10bands_image.py --ref10 %s --ref20 %s --outfile %s\"% (ref10,ref20,outimg) \n",
    "       \n",
    "    os.system(cmd)\n",
    "    %run run_make_s2_10_band_img.py \n",
    "    print (outimg + ' complete')"
   ]
  },
  {
   "cell_type": "code",
   "execution_count": 23,
   "metadata": {},
   "outputs": [
    {
     "name": "stdout",
     "output_type": "stream",
     "text": [
      "--------------------------------------------------\n",
      "3\n",
      "path10:  Z:\\Scratch\\Rob\\sent\\scratch\\Z:\\Scratch\\Rob\\sent\\scratch\\cemsre_t53lle_20210620_abam3.img\n",
      "path20:  Z:\\Scratch\\Rob\\sent\\scratch\\Z:\\Scratch\\Rob\\sent\\scratch\\cemsre_t53lle_20210620_abbm3.img\n",
      "output:  Z:\\Scratch\\Rob\\sent\\scratch\\Z:\\Scratch\\Rob\\sent\\scratch\\cemsre_t53lle_20210620_abmm3.img\n",
      "Z:\\Scratch\\Rob\\sent\\scratch\\Z:\\Scratch\\Rob\\sent\\scratch\\cemsre_t53lle_20210620_abmm3.img complete\n",
      "--------------------------------------------------\n",
      "--------------------------------------------------\n",
      "3\n",
      "path10:  Z:\\Scratch\\Rob\\sent\\scratch\\Z:\\Scratch\\Rob\\sent\\scratch\\cemsre_t53lle_20210627_abam3.img\n",
      "path20:  Z:\\Scratch\\Rob\\sent\\scratch\\Z:\\Scratch\\Rob\\sent\\scratch\\cemsre_t53lle_20210627_abbm3.img\n",
      "output:  Z:\\Scratch\\Rob\\sent\\scratch\\Z:\\Scratch\\Rob\\sent\\scratch\\cemsre_t53lle_20210627_abmm3.img\n",
      "Z:\\Scratch\\Rob\\sent\\scratch\\Z:\\Scratch\\Rob\\sent\\scratch\\cemsre_t53lle_20210627_abmm3.img complete\n",
      "--------------------------------------------------\n",
      "--------------------------------------------------\n",
      "2\n",
      "path10:  Z:\\Scratch\\Rob\\sent\\scratch\\Z:\\Scratch\\Rob\\sent\\scratch\\cfmsre_t52leh_20210718_abam2.img\n",
      "path20:  Z:\\Scratch\\Rob\\sent\\scratch\\Z:\\Scratch\\Rob\\sent\\scratch\\cfmsre_t52leh_20210718_abbm2.img\n",
      "output:  Z:\\Scratch\\Rob\\sent\\scratch\\Z:\\Scratch\\Rob\\sent\\scratch\\cfmsre_t52leh_20210718_abmm2.img\n",
      "Z:\\Scratch\\Rob\\sent\\scratch\\Z:\\Scratch\\Rob\\sent\\scratch\\cfmsre_t52leh_20210718_abmm2.img complete\n",
      "--------------------------------------------------\n",
      "--------------------------------------------------\n",
      "2\n",
      "path10:  Z:\\Scratch\\Rob\\sent\\scratch\\Z:\\Scratch\\Rob\\sent\\scratch\\cfmsre_t52lej_20210718_abam2.img\n",
      "path20:  Z:\\Scratch\\Rob\\sent\\scratch\\Z:\\Scratch\\Rob\\sent\\scratch\\cfmsre_t52lej_20210718_abbm2.img\n",
      "output:  Z:\\Scratch\\Rob\\sent\\scratch\\Z:\\Scratch\\Rob\\sent\\scratch\\cfmsre_t52lej_20210718_abmm2.img\n",
      "Z:\\Scratch\\Rob\\sent\\scratch\\Z:\\Scratch\\Rob\\sent\\scratch\\cfmsre_t52lej_20210718_abmm2.img complete\n",
      "--------------------------------------------------\n",
      "--------------------------------------------------\n",
      "3\n",
      "path10:  Z:\\Scratch\\Rob\\sent\\scratch\\Z:\\Scratch\\Rob\\sent\\scratch\\cfmsre_t53lld_20210615_abam3.img\n",
      "path20:  Z:\\Scratch\\Rob\\sent\\scratch\\Z:\\Scratch\\Rob\\sent\\scratch\\cfmsre_t53lld_20210615_abbm3.img\n",
      "output:  Z:\\Scratch\\Rob\\sent\\scratch\\Z:\\Scratch\\Rob\\sent\\scratch\\cfmsre_t53lld_20210615_abmm3.img\n",
      "Z:\\Scratch\\Rob\\sent\\scratch\\Z:\\Scratch\\Rob\\sent\\scratch\\cfmsre_t53lld_20210615_abmm3.img complete\n",
      "--------------------------------------------------\n",
      "--------------------------------------------------\n",
      "3\n",
      "path10:  Z:\\Scratch\\Rob\\sent\\scratch\\Z:\\Scratch\\Rob\\sent\\scratch\\cfmsre_t53lld_20210622_abam3.img\n",
      "path20:  Z:\\Scratch\\Rob\\sent\\scratch\\Z:\\Scratch\\Rob\\sent\\scratch\\cfmsre_t53lld_20210622_abbm3.img\n",
      "output:  Z:\\Scratch\\Rob\\sent\\scratch\\Z:\\Scratch\\Rob\\sent\\scratch\\cfmsre_t53lld_20210622_abmm3.img\n",
      "Z:\\Scratch\\Rob\\sent\\scratch\\Z:\\Scratch\\Rob\\sent\\scratch\\cfmsre_t53lld_20210622_abmm3.img complete\n",
      "--------------------------------------------------\n"
     ]
    }
   ],
   "source": [
    "def exract_file_paths(scratch_dir)\n",
    "for file in glob(\"{0}\\\\*abam?.img\".format(scratch_dir)):\n",
    "    print('-'*50)\n",
    "    #print(file)\n",
    "    file_begin = file[:-7]\n",
    "    #print(file_begin)\n",
    "    utm = file[-5:-4]\n",
    "    print(utm)\n",
    "    #print(file_begin)\n",
    "    t20 = \"{0}_abbm*\".format(file_begin)\n",
    "    #print('t20: ', t20)\n",
    "    for t20_ in glob(t20):\n",
    "        print(t20_)\n",
    "    path_10m = \"{0}\\\\{1}\".format(scratchDir, file)\n",
    "    print('path10: ', path_10m)\n",
    "    path_20m = \"{0}\\\\{1}bm{2}.img\".format(scratchDir, file_begin, utm)\n",
    "    print('path20: ', path_20m)\n",
    "    output = \"{0}\\\\{1}mm{2}.img\".format(scratchDir, file_begin, utm)\n",
    "    print('output: ', output)\n",
    "    runscript(path_10m, path_20m, output)\n",
    "    print('-'*50)\n",
    "    \n",
    "    return path_10m, path_20m, output\n",
    "    "
   ]
  },
  {
   "cell_type": "code",
   "execution_count": null,
   "metadata": {},
   "outputs": [],
   "source": [
    "\"{0}\\\\{1}{2}msre{3}_{4}_{5}{6}.img\".format()"
   ]
  },
  {
   "cell_type": "code",
   "execution_count": null,
   "metadata": {},
   "outputs": [],
   "source": [
    "ref10 = direct + '\\\\' + 'c' + sent + 'msre_' + tile + '_' + str(date) + '_abam' + str(zone) + '.img'\n",
    "ref20 = direct + '\\\\' + 'c' + sent + 'msre_' + tile + '_' + str(date) + '_abbm' + str(zone) + '.img'\n",
    "output = direct + '\\\\' + 'c' + sent + 'msre_' + tile + '_' + str(date) + '_abmm' + str(zone) + '.img'"
   ]
  }
 ],
 "metadata": {
  "kernelspec": {
   "display_name": "Python 3",
   "language": "python",
   "name": "python3"
  },
  "language_info": {
   "codemirror_mode": {
    "name": "ipython",
    "version": 3
   },
   "file_extension": ".py",
   "mimetype": "text/x-python",
   "name": "python",
   "nbconvert_exporter": "python",
   "pygments_lexer": "ipython3",
   "version": "3.7.7"
  }
 },
 "nbformat": 4,
 "nbformat_minor": 2
}

{
 "cells": [
  {
   "cell_type": "markdown",
   "metadata": {},
   "source": [
    "# Run Sentinel 20m bands from zipped folders"
   ]
  },
  {
   "cell_type": "markdown",
   "metadata": {},
   "source": [
    "- Uppack ziped file\n",
    "- create 10 band image (abmm) from abam and abbm images\n",
    "- file all image files to Sentinel2 directory on the PGBBAS-server"
   ]
  },
  {
   "cell_type": "markdown",
   "metadata": {},
   "source": [
    "file extensions\n",
    "\n",
    "- abam = 10m resoloution\n",
    "- abbm = 20m resoloution\n",
    "- abmm = modified output\n"
   ]
  },
  {
   "cell_type": "code",
   "execution_count": 1,
   "metadata": {},
   "outputs": [
    {
     "data": {
      "text/plain": [
       "'C:\\\\Users\\\\rmcgr\\\\ntg_repo\\\\image_processing'"
      ]
     },
     "execution_count": 1,
     "metadata": {},
     "output_type": "execute_result"
    }
   ],
   "source": [
    "import os\n",
    "os.getcwd()"
   ]
  },
  {
   "cell_type": "code",
   "execution_count": 2,
   "metadata": {
    "scrolled": true
   },
   "outputs": [
    {
     "name": "stdout",
     "output_type": "stream",
     "text": [
      " Volume in drive C has no label.\n",
      " Volume Serial Number is 6656-0234\n",
      "\n",
      " Directory of C:\\Users\\rmcgr\\ntg_repo\\image_processing\n",
      "\n",
      "10/03/2022  08:20 AM    <DIR>          .\n",
      "10/03/2022  08:20 AM    <DIR>          ..\n",
      "10/03/2022  08:20 AM    <DIR>          .ipynb_checkpoints\n",
      "10/03/2022  08:20 AM             4,246 clip_tool_rasterio.py\n",
      "10/03/2022  08:20 AM             2,324 define_nodata_val_0.py\n",
      "10/03/2022  08:20 AM    <DIR>          image_processing\n",
      "10/03/2022  08:20 AM             4,502 multi_clip_tool_rasterio.py\n",
      "10/03/2022  08:20 AM            14,996 plot_raster_stack_crop.ipynb\n",
      "10/03/2022  08:20 AM            32,423 RMB_fractional_cover_pipeline.ipynb\n",
      "10/03/2022  08:20 AM            11,881 Run 20m image processing.ipynb\n",
      "10/03/2022  08:20 AM             1,827 run_make_s2_10_band_img.py\n",
      "10/03/2022  08:20 AM             6,228 run_make_s2_10_band_img_rm_edit.py\n",
      "10/03/2022  08:20 AM             1,783 run_make_s2_6_band_img.py\n",
      "10/03/2022  08:20 AM             2,823 sen2make10bands_image.py\n",
      "10/03/2022  08:20 AM             2,867 sen2make6bands_image.py\n",
      "10/03/2022  08:20 AM    <DIR>          shapefiles\n",
      "10/03/2022  08:20 AM            11,231 uav_band_composite_clip_rename.ipynb\n",
      "10/03/2022  08:20 AM            10,150 Untitled.ipynb\n",
      "              13 File(s)        107,281 bytes\n",
      "               5 Dir(s)  120,029,569,024 bytes free\n"
     ]
    }
   ],
   "source": [
    "ls"
   ]
  },
  {
   "cell_type": "code",
   "execution_count": 3,
   "metadata": {},
   "outputs": [
    {
     "name": "stdout",
     "output_type": "stream",
     "text": [
      "usage: run_make_s2_10_band_img_rm_edit.py [-h] [--directory DIRECTORY]\n",
      "                                          [--file_type FILE_TYPE]\n",
      "\n",
      "Create a single stack of Sentinel-2 bands, all at 10m pixel size. Output is a\n",
      "single stack of 10 layers. Bands are out out put as\n",
      "B1','B2','B3','B4','B5','B6','B7','B8','B9','B10 which is the Sentinel-2 band\n",
      "numbers B02, B03, B04, B08, B05, B06, B07, B08A, B11, B12.\n",
      "\n",
      "optional arguments:\n",
      "  -h, --help            show this help message and exit\n",
      "  --directory DIRECTORY\n",
      "                        Enter the directory of the ziped files.\n",
      "  --file_type FILE_TYPE\n",
      "                        Enter file extension of compressed package (i.e. zip\n",
      "                        or 7z.\n"
     ]
    }
   ],
   "source": [
    "%run run_make_s2_10_band_img_rm_edit.py --help"
   ]
  },
  {
   "cell_type": "code",
   "execution_count": null,
   "metadata": {
    "scrolled": false
   },
   "outputs": [],
   "source": [
    "%run run_make_s2_10_band_img_rm_edit.py --directory Z:\\Scratch\\Rob\\sent\\new5 --file_type 'zip'"
   ]
  },
  {
   "cell_type": "code",
   "execution_count": null,
   "metadata": {},
   "outputs": [],
   "source": []
  },
  {
   "cell_type": "code",
   "execution_count": null,
   "metadata": {},
   "outputs": [],
   "source": []
  },
  {
   "cell_type": "code",
   "execution_count": 1,
   "metadata": {},
   "outputs": [
    {
     "name": "stdout",
     "output_type": "stream",
     "text": [
      "Z:\\Scratch\\Rob\\sent\\bart\\cemsre_t53lkd_20220526_abmm3.img complete\n"
     ]
    }
   ],
   "source": [
    "%run run_make_s2_10_band_img.py \\\n",
    "--ref10 Z:\\Scratch\\Rob\\sent\\bart\\cemsre_t53lkd_20220526_abam3.img \\\n",
    "    --ref20 Z:\\Scratch\\Rob\\sent\\bart\\cemsre_t53lkd_20220526_abbm3.img \\\n",
    "        --outfile Z:\\Scratch\\Rob\\sent\\bart\\cemsre_t53lkd_20220526_abmm3.img"
   ]
  },
  {
   "cell_type": "code",
   "execution_count": null,
   "metadata": {},
   "outputs": [],
   "source": []
  },
  {
   "cell_type": "code",
   "execution_count": 2,
   "metadata": {},
   "outputs": [
    {
     "name": "stdout",
     "output_type": "stream",
     "text": [
      "Z:\\Scratch\\Rob\\sent\\bart\\cemsre_t53lke_20220526_abmm3.img complete\n"
     ]
    }
   ],
   "source": [
    "%run run_make_s2_10_band_img.py \\\n",
    "--ref10 Z:\\Scratch\\Rob\\sent\\bart\\cemsre_t53lke_20220526_abam3.img \\\n",
    "    --ref20 Z:\\Scratch\\Rob\\sent\\bart\\cemsre_t53lke_20220526_abbm3.img \\\n",
    "        --outfile Z:\\Scratch\\Rob\\sent\\bart\\cemsre_t53lke_20220526_abmm3.img"
   ]
  },
  {
   "cell_type": "code",
   "execution_count": 3,
   "metadata": {},
   "outputs": [
    {
     "name": "stdout",
     "output_type": "stream",
     "text": [
      "Z:\\Scratch\\Rob\\sent\\bart\\cemsre_t53lld_20220523_abmm3.img complete\n"
     ]
    }
   ],
   "source": [
    "%run run_make_s2_10_band_img.py \\\n",
    "--ref10 Z:\\Scratch\\Rob\\sent\\bart\\cemsre_t53lld_20220523_abam3.img \\\n",
    "    --ref20 Z:\\Scratch\\Rob\\sent\\bart\\cemsre_t53lld_20220523_abbm3.img \\\n",
    "        --outfile Z:\\Scratch\\Rob\\sent\\bart\\cemsre_t53lld_20220523_abmm3.img"
   ]
  },
  {
   "cell_type": "code",
   "execution_count": 4,
   "metadata": {},
   "outputs": [
    {
     "name": "stdout",
     "output_type": "stream",
     "text": [
      "Z:\\Scratch\\Rob\\sent\\bart\\cemsre_t53lld_20220526_abmm3.img complete\n"
     ]
    }
   ],
   "source": [
    "%run run_make_s2_10_band_img.py \\\n",
    "--ref10 Z:\\Scratch\\Rob\\sent\\bart\\cemsre_t53lld_20220526_abam3.img \\\n",
    "    --ref20 Z:\\Scratch\\Rob\\sent\\bart\\cemsre_t53lld_20220526_abbm3.img \\\n",
    "        --outfile Z:\\Scratch\\Rob\\sent\\bart\\cemsre_t53lld_20220526_abmm3.img"
   ]
  },
  {
   "cell_type": "markdown",
   "metadata": {},
   "source": [
    "# Up to here"
   ]
  },
  {
   "cell_type": "code",
   "execution_count": null,
   "metadata": {},
   "outputs": [],
   "source": [
    "%run run_make_s2_10_band_img.py \\\n",
    "--ref10 Z:\\Scratch\\Rob\\sent\\20220516\\cfmsre_t53lnd_20220425_abam3.img \\\n",
    "    --ref20 Z:\\Scratch\\Rob\\sent\\20220516\\cfmsre_t53lnd_20220425_abbm3.img \\\n",
    "        --outfile Z:\\Scratch\\Rob\\sent\\20220516\\cfmsre_t53lnd_20220425_abmm3.img"
   ]
  },
  {
   "cell_type": "code",
   "execution_count": 2,
   "metadata": {},
   "outputs": [
    {
     "ename": "KeyboardInterrupt",
     "evalue": "",
     "output_type": "error",
     "traceback": [
      "\u001b[1;31m---------------------------------------------------------------------------\u001b[0m",
      "\u001b[1;31mKeyboardInterrupt\u001b[0m                         Traceback (most recent call last)",
      "\u001b[1;32mC:\\Users\\rmcgr\\Rangeland_monitoring\\image_processing\\run_make_s2_10_band_img.py\u001b[0m in \u001b[0;36m<module>\u001b[1;34m()\u001b[0m\n\u001b[0;32m     66\u001b[0m \u001b[1;33m\u001b[0m\u001b[0m\n\u001b[0;32m     67\u001b[0m \u001b[1;32mif\u001b[0m \u001b[0m__name__\u001b[0m \u001b[1;33m==\u001b[0m \u001b[1;34m\"__main__\"\u001b[0m\u001b[1;33m:\u001b[0m\u001b[1;33m\u001b[0m\u001b[1;33m\u001b[0m\u001b[0m\n\u001b[1;32m---> 68\u001b[1;33m     \u001b[0mmain\u001b[0m\u001b[1;33m(\u001b[0m\u001b[1;33m)\u001b[0m\u001b[1;33m\u001b[0m\u001b[1;33m\u001b[0m\u001b[0m\n\u001b[0m\u001b[0;32m     69\u001b[0m \u001b[1;33m\u001b[0m\u001b[0m\n",
      "\u001b[1;32mC:\\Users\\rmcgr\\Rangeland_monitoring\\image_processing\\run_make_s2_10_band_img.py\u001b[0m in \u001b[0;36mmain\u001b[1;34m()\u001b[0m\n\u001b[0;32m     63\u001b[0m     \u001b[0moutimg\u001b[0m \u001b[1;33m=\u001b[0m \u001b[0mcmdargs\u001b[0m\u001b[1;33m.\u001b[0m\u001b[0moutfile\u001b[0m\u001b[1;33m\u001b[0m\u001b[1;33m\u001b[0m\u001b[0m\n\u001b[0;32m     64\u001b[0m \u001b[1;33m\u001b[0m\u001b[0m\n\u001b[1;32m---> 65\u001b[1;33m     \u001b[0mrunscript\u001b[0m\u001b[1;33m(\u001b[0m\u001b[0mref10\u001b[0m\u001b[1;33m,\u001b[0m\u001b[0mref20\u001b[0m\u001b[1;33m,\u001b[0m\u001b[0moutimg\u001b[0m\u001b[1;33m)\u001b[0m\u001b[1;33m\u001b[0m\u001b[1;33m\u001b[0m\u001b[0m\n\u001b[0m\u001b[0;32m     66\u001b[0m \u001b[1;33m\u001b[0m\u001b[0m\n\u001b[0;32m     67\u001b[0m \u001b[1;32mif\u001b[0m \u001b[0m__name__\u001b[0m \u001b[1;33m==\u001b[0m \u001b[1;34m\"__main__\"\u001b[0m\u001b[1;33m:\u001b[0m\u001b[1;33m\u001b[0m\u001b[1;33m\u001b[0m\u001b[0m\n",
      "\u001b[1;32mC:\\Users\\rmcgr\\Rangeland_monitoring\\image_processing\\run_make_s2_10_band_img.py\u001b[0m in \u001b[0;36mrunscript\u001b[1;34m(ref10, ref20, outimg)\u001b[0m\n\u001b[0;32m     50\u001b[0m     \u001b[0mcmd\u001b[0m \u001b[1;33m=\u001b[0m \u001b[1;34m\"python sen2make10bands_image.py --ref10 %s --ref20 %s --outfile %s\"\u001b[0m\u001b[1;33m%\u001b[0m \u001b[1;33m(\u001b[0m\u001b[0mref10\u001b[0m\u001b[1;33m,\u001b[0m\u001b[0mref20\u001b[0m\u001b[1;33m,\u001b[0m\u001b[0moutimg\u001b[0m\u001b[1;33m)\u001b[0m\u001b[1;33m\u001b[0m\u001b[1;33m\u001b[0m\u001b[0m\n\u001b[0;32m     51\u001b[0m \u001b[1;33m\u001b[0m\u001b[0m\n\u001b[1;32m---> 52\u001b[1;33m     \u001b[0mos\u001b[0m\u001b[1;33m.\u001b[0m\u001b[0msystem\u001b[0m\u001b[1;33m(\u001b[0m\u001b[0mcmd\u001b[0m\u001b[1;33m)\u001b[0m\u001b[1;33m\u001b[0m\u001b[1;33m\u001b[0m\u001b[0m\n\u001b[0m\u001b[0;32m     53\u001b[0m     \u001b[0mprint\u001b[0m \u001b[1;33m(\u001b[0m\u001b[0moutimg\u001b[0m \u001b[1;33m+\u001b[0m \u001b[1;34m' complete'\u001b[0m\u001b[1;33m)\u001b[0m\u001b[1;33m\u001b[0m\u001b[1;33m\u001b[0m\u001b[0m\n\u001b[0;32m     54\u001b[0m \u001b[1;33m\u001b[0m\u001b[0m\n",
      "\u001b[1;31mKeyboardInterrupt\u001b[0m: "
     ]
    }
   ],
   "source": [
    "%run run_make_s2_10_band_img.py \\\n",
    "--ref10 Z:\\Scratch\\Rob\\sent\\20220516\\cfmsre_t53lnd_20220505_abam3.img \\\n",
    "    --ref20 Z:\\Scratch\\Rob\\sent\\20220516\\cfmsre_t53lnd_20220505_abbm3.img \\\n",
    "        --outfile Z:\\Scratch\\Rob\\sent\\20220516\\cfmsre_t53lnd_20220505_abmm3.img"
   ]
  },
  {
   "cell_type": "code",
   "execution_count": null,
   "metadata": {},
   "outputs": [],
   "source": [
    "%run run_make_s2_10_band_img.py \\\n",
    "--ref10 Z:\\Scratch\\Rob\\sent\\20220516\\cfmsre_t53lmd_20220508_abam3.img \\\n",
    "    --ref20 Z:\\Scratch\\Rob\\sent\\20220516\\cfmsre_t53lmd_20220508_abbm3.img \\\n",
    "        --outfile Z:\\Scratch\\Rob\\sent\\20220516\\cfmsre_t53lmd_20220508_abmm3.img"
   ]
  },
  {
   "cell_type": "code",
   "execution_count": null,
   "metadata": {},
   "outputs": [],
   "source": [
    "%run run_make_s2_10_band_img.py \\\n",
    "--ref10 Z:\\Scratch\\Rob\\sent\\20220516\\cfmsre_t53lmd_20220508_abam3.img \\\n",
    "    --ref20 Z:\\Scratch\\Rob\\sent\\20220516\\cfmsre_t53lmd_20220508_abbm3.img \\\n",
    "        --outfile Z:\\Scratch\\Rob\\sent\\20220516\\cfmsre_t53lmd_20220508_abmm3.img"
   ]
  },
  {
   "cell_type": "code",
   "execution_count": null,
   "metadata": {},
   "outputs": [],
   "source": [
    "%run run_make_s2_10_band_img.py \\\n",
    "--ref10 Z:\\Scratch\\Rob\\sent\\20220516\\cfmsre_t53lmd_20220508_abam3.img \\\n",
    "    --ref20 Z:\\Scratch\\Rob\\sent\\20220516\\cfmsre_t53lmd_20220508_abbm3.img \\\n",
    "        --outfile Z:\\Scratch\\Rob\\sent\\20220516\\cfmsre_t53lmd_20220508_abmm3.img"
   ]
  },
  {
   "cell_type": "code",
   "execution_count": null,
   "metadata": {},
   "outputs": [],
   "source": []
  },
  {
   "cell_type": "code",
   "execution_count": null,
   "metadata": {},
   "outputs": [],
   "source": []
  },
  {
   "cell_type": "code",
   "execution_count": null,
   "metadata": {},
   "outputs": [],
   "source": [
    "%run run_make_s2_10_band_img.py --ref10 Z:\\Sentinel2\\t53k\\t53kka\\2021\\202107\\cemsre_t53kka_20210730_abam3.img --ref20 Z:\\Sentinel2\\t53k\\t53kka\\2021\\202107\\cemsre_t53kka_20210730_abbm3.img --outfile Z:\\Sentinel2\\t53k\\t53kka\\2021\\202107\\cemsre_t53kka_20210730_abmm3.im"
   ]
  },
  {
   "cell_type": "markdown",
   "metadata": {},
   "source": [
    "# run clipping tool"
   ]
  },
  {
   "cell_type": "code",
   "execution_count": null,
   "metadata": {},
   "outputs": [],
   "source": [
    "ls"
   ]
  },
  {
   "cell_type": "code",
   "execution_count": null,
   "metadata": {
    "scrolled": true
   },
   "outputs": [],
   "source": [
    "%run clip_tool_rasterio.py --raster C:/Users/rmcgr/Desktop/outputs/cemsre_t52kgf_t52kgg_20200625_abam2_2.img --shpfile C:/Users/rmcgr/Desktop/properties/project/CAmpfield_WGSz52.shp --outfile C:/Users/rmcgr/Desktop/outputs/clipped/Campfield_cemsre_t52kgf_t52kgg_20200625_abam2.img "
   ]
  },
  {
   "cell_type": "code",
   "execution_count": null,
   "metadata": {},
   "outputs": [],
   "source": []
  }
 ],
 "metadata": {
  "kernelspec": {
   "display_name": "Python 3",
   "language": "python",
   "name": "python3"
  },
  "language_info": {
   "codemirror_mode": {
    "name": "ipython",
    "version": 3
   },
   "file_extension": ".py",
   "mimetype": "text/x-python",
   "name": "python",
   "nbconvert_exporter": "python",
   "pygments_lexer": "ipython3",
   "version": "3.7.4"
  }
 },
 "nbformat": 4,
 "nbformat_minor": 2
}
